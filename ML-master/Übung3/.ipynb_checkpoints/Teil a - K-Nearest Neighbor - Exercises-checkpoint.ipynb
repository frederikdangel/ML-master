{
 "cells": [
  {
   "cell_type": "markdown",
   "metadata": {},
   "source": [
    "# K-Nearest Neighbor (KNN)"
   ]
  },
  {
   "cell_type": "markdown",
   "metadata": {},
   "source": [
    "Ziel der vorliegenden Aufgabe ist es einen KNN-Kassifikator zu implementieren und auf den Titanic Datensatz anzuwenden. Dabei sollen Sie insbesondere untersuchen welcher Merkmalsraum und welches Ähnlichkeitsmaß für diese Aufgabe geeignet ist. \n",
    "\n",
    "Der KNN-Klassifikator ist eine einfache, parameterfreie Methode, bei welcher zu jedem Testvektor $\\vec x_q$ die $k$-nächsten-Nachbarn, $\\{\\vec {x_t^1}...\\vec {x_t^k}\\}$ im Trainingsbestand, unter Berücksichtigung eines frei zu definierenden Ähnlichkeitsmaß, ermittelt werden. Die Klassenzugehörigkeit wird über einen einfachen Mehrheitsentscheid der nächsten $k$-Nachbarn für $\\vec x_q$ prädiziert (siehe auch https://en.wikipedia.org/wiki/K-nearest_neighbors_algorithm)."
   ]
  },
  {
   "cell_type": "markdown",
   "metadata": {},
   "source": [
    "### Imports"
   ]
  },
  {
   "cell_type": "code",
   "execution_count": 1,
   "metadata": {},
   "outputs": [],
   "source": [
    "import numpy as np\n",
    "import csv as csv\n",
    "import matplotlib.pyplot as plt\n",
    "import pandas as pd\n",
    "import itertools\n",
    "%matplotlib inline"
   ]
  },
  {
   "cell_type": "markdown",
   "metadata": {},
   "source": [
    "### Daten einlesen"
   ]
  },
  {
   "cell_type": "code",
   "execution_count": 2,
   "metadata": {},
   "outputs": [],
   "source": [
    "DATA_FILE = './Data/original_titanic.csv'"
   ]
  },
  {
   "cell_type": "markdown",
   "metadata": {},
   "source": [
    "### Vorbereitungen\n",
    "\n",
    "Führen Sie hier folgende Bearbeitungsschritte durch:\n",
    "* (1) Datenlücken interpolieren,\n",
    "* (2) Datensatz stochastisch verändern, \n",
    "* (3) Aufteilung in Trainings- und Testdatensatz.\n",
    "\n",
    "Sie können Ihre Implementierungen der vorherigen Arbeitsblätter nutzen."
   ]
  },
  {
   "cell_type": "code",
   "execution_count": 3,
   "metadata": {},
   "outputs": [],
   "source": [
    "# (1) Datenlücken interpolieren\n",
    "def prepareData(df):\n",
    "    df.loc[(df.Age.isnull()) & (df.Sex == 'male'),'Age'] = df[(df.Sex == 'male')].Age.median()\n",
    "    df.loc[(df.Age.isnull()) & (df.Sex == 'female'),'Age'] = df[(df.Sex == 'female')].Age.median()\n",
    "    df.loc[df.Age.isnull(),'Age']= df.Age.median()\n",
    "    df.loc[(df.Fare.isnull()) & (df.Sex == 'male'),'Fare'] = df[(df.Sex == 'male')].Fare.median()\n",
    "    df.loc[(df.Fare.isnull()) & (df.Sex == 'female'),'Fare'] = df[(df.Sex == 'female')].Fare.median()\n",
    "    df.loc[df.Fare.isnull(),'Fare']= df.Fare.median()\n",
    "    return df\n",
    "\n",
    "df_original = pd.read_csv(DATA_FILE, header=0)\n",
    "\n",
    "df_prepared = prepareData(df_original)\n",
    "\n",
    "# (2) Datensatz stochastisch verändern\n",
    "df_shuffled =  df_prepared.sample(frac=1)\n",
    "\n",
    "# (3) Aufteilung in Trainings- und Testdatensatz\n",
    "df_train, df_test = np.split(df_shuffled, [int(.8*len(df_shuffled))])"
   ]
  },
  {
   "cell_type": "markdown",
   "metadata": {},
   "source": [
    "### Merkmale standardisieren\n",
    "Die <i>Standardisierung</i> verleiht den Daten die Eigenschaften einer Standardnormalverteilung. Der Mittelwert jeder Merkmalsspalte beträgt 0, die Standardabweichung jeder Merkmalsspalte beträgt 1. Um zum Beispiel das Merkmal j zu standardiesieren, wird der Mittelwert $\\mu$ der jeweiligen Stichprobe abgezogen und das Ergebnis durch die Standardabweichung $\\sigma$ dividiert. Das Standardisierungsverfahren wird auf die Merkmalsspalten der Datenmenge einzeln angewendet. Siehe auch: https://en.wikipedia.org/wiki/Standard_score <br>\n",
    "\n",
    "$x_j^{\\prime(i)} = \\frac{x_j^{(i)} - \\mu_j}{\\sigma_j}$. \n",
    "\n",
    "Implementieren sie die Funktion <b>normalize()</b> welche die Standardisierung (anhand Mittelwert und Standardabweichung) des Trainingsdatensatzes durchführt. Die Methoden-Parameter können Sie entsprechend Ihrer Implementierung erweitern. Überlegen Sie sich hierbei, welche Merkmale zur Standardisierung geeignet sind und welche nicht. Sie können Ihre Implementierung testen, indem Sie die Werte Mittelwert und Standardabweichung Ihrer standardisierten Merkmalsspalten prüfen. Der Mittelwert sollte 0 sein, die Standardabweichung 1. Geben Sie die Werte aus.\n",
    "\n",
    "Speichern Sie sich hierbei die Werte für Mittelwert und Standardabweichung des Trainingsdatensatzes in einer geeigneten Datenstruktur. Führen sie die Standardisierung des Testdatensatzes anhand der Werte von Mittelwert und Standardabweichung vom Trainingsdatensatzes durch. <br>\n",
    "\n",
    "<b>Wichtiger Hinweis</b>: Implementieren Sie die Funktion eigenständig, eine Standard-Funktion aus einem Framework ist nicht zulässig, wie bspw. *sklearn.preprocessing.StandardScaler*. Zum Testen Ihrer Implementierung können Sie diese Funktion nutzen. Standard-Numpy-Funktion zur Berechnung von *Mittelwert* und *Standardabweichung* sind selbstverständlich zugelassen. "
   ]
  },
  {
   "cell_type": "code",
   "execution_count": 4,
   "metadata": {},
   "outputs": [
    {
     "data": {
      "text/plain": [
       "PassengerId       0\n",
       "Survived          0\n",
       "Pclass            0\n",
       "Name              0\n",
       "Sex               0\n",
       "Age               0\n",
       "SibSp             0\n",
       "Parch             0\n",
       "Ticket            0\n",
       "Fare              0\n",
       "Cabin          1014\n",
       "Embarked          2\n",
       "Home-Dest       564\n",
       "dtype: int64"
      ]
     },
     "execution_count": 4,
     "metadata": {},
     "output_type": "execute_result"
    }
   ],
   "source": [
    "df_original.isnull().sum()"
   ]
  },
  {
   "cell_type": "code",
   "execution_count": 5,
   "metadata": {},
   "outputs": [],
   "source": [
    "df_train.loc[(df_train.Sex == 'male'), 'Sex'] = 1\n",
    "df_train.loc[(df_train.Sex == 'female'), 'Sex'] = 0\n",
    "df_test.loc[(df_test.Sex == 'male'), 'Sex'] = 1\n",
    "df_test.loc[(df_test.Sex == 'female'), 'Sex'] = 0"
   ]
  },
  {
   "cell_type": "code",
   "execution_count": 7,
   "metadata": {},
   "outputs": [],
   "source": [
    "def normalize(df, variables, means, stds):\n",
    "    result = df\n",
    "    for item in result.index:\n",
    "        for v in variables:\n",
    "            result.at[item, v] = (result.at[item, v]-means[v])/stds[v]\n",
    "    return result\n",
    "\n",
    "def calcNormModel(df, variables):\n",
    "    means = {}\n",
    "    stds = {}\n",
    "    for x in variables:\n",
    "        means[x] = df[x].mean()  \n",
    "        stds[x] = np.std(df[x])\n",
    "    return means, stds\n",
    "\n",
    "\n",
    "\n",
    "variables = [\"Age\", \"Fare\", \"SibSp\", \"Parch\", \"Pclass\", \"Sex\"]\n",
    "\n",
    "norm_model = calcNormModel(df_train, variables)\n",
    "\n",
    "df_train_norm = normalize(df_train, variables, norm_model[0], norm_model[1])\n",
    "df_test_norm =  normalize(df_test, variables,  norm_model[0], norm_model[1])"
   ]
  },
  {
   "cell_type": "code",
   "execution_count": null,
   "metadata": {},
   "outputs": [],
   "source": [
    "#Testdatensatz anhand des Trainingsdatensatzes standardisieren"
   ]
  },
  {
   "cell_type": "markdown",
   "metadata": {},
   "source": [
    "### Merkmalsraum definieren\n",
    "Unabhängig von der eingesetzten Methodik zur Klassifikation ist es wichtig, dass Sie sich Gedanken über den Merkmalsraum machen. Konkret bedeutet das, dass sie definieren müssen wie ein Merkmalsvektor aussieht und mit welchem Ähnlichkeitsmaß Merkmalsvektoren verglichen werden. Sie sollten sich dabei mit den folgenden Fragen auseinander setzen:\n",
    "* Welche einzelnen Attribute aus einem Objekt des Datensatzes sollen verwendet werden?\n",
    "* Welche Probleme ergeben sich aufgrund von unterschiedlichen Skalenniveaus der Attribute? Wie können Sie diesen begegnen? \n",
    "* Wie gehen Sie mit kategoriellen Merkmalen um?\n",
    "* Welches Ähnlichkeitsmaß setzen Sie ein? "
   ]
  },
  {
   "cell_type": "markdown",
   "metadata": {},
   "source": [
    "### Merkmalsvektor extrahieren und normalisieren bzw. standardisieren\n",
    "Schreiben sie eine Methode welche aus einer gegebenen Datenreihe einen Merkmalsvektor extrahiert. D.h. der Input ist eine Reihe aus dem Datensatz, der Rückgabewert ein Vektor bestehend aus den Daten."
   ]
  },
  {
   "cell_type": "code",
   "execution_count": 8,
   "metadata": {},
   "outputs": [],
   "source": [
    "def extractFeatureVector(row):\n",
    "    return np.array([row.Age, row.Pclass, row.Sex, row.SibSp, row.Parch])"
   ]
  },
  {
   "cell_type": "markdown",
   "metadata": {},
   "source": [
    "Testen Sie die Funktion auf einem beliebigen Objekt des Datensatzes. Überprüfen Sie ob das Resultat Ihren Erwartungen entspricht. "
   ]
  },
  {
   "cell_type": "code",
   "execution_count": 9,
   "metadata": {},
   "outputs": [
    {
     "data": {
      "text/plain": [
       "array([ 1.45833384,  0.        , -1.37269717,  0.        ,  3.        ])"
      ]
     },
     "execution_count": 9,
     "metadata": {},
     "output_type": "execute_result"
    }
   ],
   "source": [
    "extractFeatureVector(df_train_norm.iloc[0])"
   ]
  },
  {
   "cell_type": "markdown",
   "metadata": {},
   "source": [
    "Wenn Sie einen nieder-dimensionalen Merkmalsraum, bspw. zwei-dimensional, gewählt haben, lässt sich dieser sehr komfortabel visualisieren. Zum Beispiel:"
   ]
  },
  {
   "cell_type": "markdown",
   "metadata": {},
   "source": [
    "<img src=\"./Figures/titanic-nieder-dimensional.png\" alt=\"drawing\" style=\"width:400px;\"/>"
   ]
  },
  {
   "cell_type": "markdown",
   "metadata": {},
   "source": [
    "## Implementierung\n",
    "Die Implementierung erfolgt innerhalb der Klasse <b>KNN</b>. Im folgenden werden die einzelnen Methoden und deren Funktionsweise kurz vorgestellt. <br>\n",
    "\n",
    "\n",
    "### Konstruktor\n",
    "Das KNN-Objekt wird mit dem Wert <b>k</b> initialisiert. Dieser bestimmt die Anzahl der zu betrachtenden Nachbarn. Wählen Sie k=3 als Wert.\n",
    "\n",
    "\n",
    "### distance()-Methode:\n",
    "In dieser Methode gilt es eine Funktion zu implementieren, welche die Ähnlichkeit zweier Merkmalsvektoren vergleicht. Diese Methode soll die Ähnlichkeit der zwei Merkmalsvektoren, welche als Methoden-Parameter übergeben werden, bestimmen. Wählen Sie hierbei die aus der Vorlesung bekannten Distanz-Funktionen wie bspw. *Euklidische Distanz*, *Manhatten Distanz*, *Minkovski Distanz* etc. <br>\n",
    "\n",
    "<b>Auch hier gilt</b>: Implementieren Sie die Funktion eigenständig, eine Standard-Funktion aus einem Framework ist nicht zulässig, wie bspw. *sklearn.metrics.pairwise.euclidean_distances*. Zum Testen Ihrer Implementierung können Sie diese Funktionen nutzen.\n",
    "\n",
    "\n",
    "### fit()-Methode:\n",
    "Als Methoden-Parameter dient der normierte Trainingsdatensatz. In dieser Methode soll das Modell anhand der Trainingsdaten gebildet werden mit dem entsprechenden zuvor definierten Merkmalsvektor. <br>\n",
    "Stellen Sie sicher, dass in der Liste <b>self.trainData</b> die Merkmalsvektoren aus dem Trainingsdatensatz enthalten sind. <br>\n",
    "Stellen sie sicher, dass in der Liste <b>self.trainLabel</b> die Zielwerte des Merkmals *survived* aus dem Trainingsdatensatz enthalten sind.\n",
    "\n",
    "\n",
    "### predict()-Methode:\n",
    "Als Methoden-Parameter dient ein Merkmalsvektor. Implementieren Sie den in der Vorlesung besprochenen Algorithmus für den KNN-Klassifikator. Der Rückgabewert der Methode ist die entsprechende Mehrheits-Entscheidung."
   ]
  },
  {
   "cell_type": "code",
   "execution_count": 10,
   "metadata": {},
   "outputs": [],
   "source": [
    "class KNN(object):\n",
    "    \n",
    "    def __init__(self, k):\n",
    "        self.k = k\n",
    "\n",
    "    def euklid(self, vector1,vector2):\n",
    "        sum = 0\n",
    "        for item in range(len(vector1)-1):\n",
    "            sum += (vector1[item] - vector2[item])**2\n",
    "        return np.sqrt(sum)\n",
    "    \n",
    "    def cityBlock(self, vector1, vector2):\n",
    "        sum=0\n",
    "        for item in range(len(vector1) -1):\n",
    "            sum += abs(vector1[item] - vector2[item])\n",
    "        return sum\n",
    "    def fit(self, df):\n",
    "        self.trainData =  df\n",
    "        self.trainLabel = [0,1] #Versteh den Sinn nicht so ganz. \n",
    "    \n",
    "    def predict(self, x):\n",
    "        distances = list()\n",
    "        for row in self.trainData.itertuples():\n",
    "            dst = self.cityBlock(extractFeatureVector(row), extractFeatureVector(x))\n",
    "            distances.append((row, dst))\n",
    "        distances.sort(key=lambda tup: tup[1])\n",
    "        survivedCount = 0\n",
    "        for i in range(self.k):\n",
    "            survivedCount += distances[i][0].Survived\n",
    "        if (survivedCount > round(self.k/2)):\n",
    "            return self.trainLabel[1]\n",
    "        return self.trainLabel[0]"
   ]
  },
  {
   "cell_type": "markdown",
   "metadata": {},
   "source": [
    "## Training und Test des Algorithmus\n",
    "\n",
    "Führen die Modellbildung (\"Training\") anhand der KNN-Klasse und der <b>fit()</b>-Methode durch. <br>\n",
    "Die <b>predict()</b>-Methode soll einen Merkmalsvektor $\\vec x_q$  auf die entsprechende Klassenzugehörigkeit $l \\in \\{0,1\\}$ abbilden. <br>\n",
    "Testen Sie die <b>predict()</b>-Methode mit den von ihnen gewählten Merkmalsvektoren ( _Hinweis_ : Einsatz der <b>extractFeatureVector()</b>-Methode) aus dem normierten Testdatensatz. Ermitteln sie hierzu die Korreklassifizierungsrate."
   ]
  },
  {
   "cell_type": "code",
   "execution_count": 11,
   "metadata": {},
   "outputs": [
    {
     "name": "stdout",
     "output_type": "stream",
     "text": [
      "0.7251908396946565\n",
      "done\n"
     ]
    }
   ],
   "source": [
    "knn = KNN(3)\n",
    "knn.fit(df_train_norm)\n",
    "truePositives = 0\n",
    "trueNegatives = 0\n",
    "falsePositives = 0\n",
    "falseNegatives = 0\n",
    "for item in df_test_norm.itertuples():\n",
    "    predicted = knn.predict(item)\n",
    "    if (predicted == item.Survived & item.Survived == 1):\n",
    "        truePositives+=1\n",
    "    if (predicted == item.Survived & item.Survived == 0):\n",
    "        trueNegatives+=1\n",
    "    if (predicted != item.Survived & item.Survived == 1):\n",
    "        falsePositives+=1\n",
    "    if (predicted != item.Survived & item.Survived == 0):\n",
    "        falseNegatives+=1\n",
    "print((truePositives+trueNegatives)/(truePositives+trueNegatives+falsePositives+falseNegatives))"
   ]
  },
  {
   "cell_type": "markdown",
   "metadata": {},
   "source": [
    "## Weitere Evaluation\n",
    "Untersuchen Sie wie sich die Klassifikationsleistung in Abhängigkeit von verschiedenen Änhlichkeitsmaßen bzw. Merkmalsvektoren verhält. "
   ]
  },
  {
   "cell_type": "code",
   "execution_count": null,
   "metadata": {},
   "outputs": [],
   "source": [
    "#Euklid: k = 3, Merkmale = Age, Pclass, Sex -> ca. 63%\n",
    "#Euklid: k = 3, Merkmale = Age, Pclass, Sex -> ca. 72%\n",
    "#Euklid: k = 3, Merkmale = Age, Pclass, Sex, SibSp, Parch -> 75 %\n",
    "#CityBlock: k = 3, Merkmale = Age, Pclass, Sex -> ca. 72 % \n",
    "#CityBlock: k = 3, Merkmale = Age, Pclass, Sex -> ca. 63 % \n",
    "#CityBlock: k = 3, Merkmale = Age, Pclass, Sex, SibSp, Parch -> 75 %"
   ]
  }
 ],
 "metadata": {
  "kernelspec": {
   "display_name": "Python 3",
   "language": "python",
   "name": "python3"
  },
  "language_info": {
   "codemirror_mode": {
    "name": "ipython",
    "version": 3
   },
   "file_extension": ".py",
   "mimetype": "text/x-python",
   "name": "python",
   "nbconvert_exporter": "python",
   "pygments_lexer": "ipython3",
   "version": "3.8.3"
  }
 },
 "nbformat": 4,
 "nbformat_minor": 4
}
