{
 "cells": [
  {
   "cell_type": "markdown",
   "metadata": {},
   "source": [
    "# Simple Classifier\n",
    "In der vorherigen Teilaufgabe haben Sie einiges über die Struktur der Daten gelernt. Nun sollen Sie dieses Wissen einsetzen um eine erste Vorhersage auf einem Testdatensatz zu treffen. Im folgenden werden die notwendigen Imports getätigt und das Dataset eingelesen."
   ]
  },
  {
   "cell_type": "markdown",
   "metadata": {},
   "source": [
    "### Imports"
   ]
  },
  {
   "cell_type": "code",
   "execution_count": 3,
   "metadata": {},
   "outputs": [],
   "source": [
    "import numpy as np\n",
    "import csv as csv\n",
    "import matplotlib.pyplot as plt\n",
    "import pandas as pd\n",
    "import itertools\n",
    "from sklearn.model_selection import train_test_split\n",
    "%matplotlib inline"
   ]
  },
  {
   "cell_type": "markdown",
   "metadata": {},
   "source": [
    "### Daten einlesen"
   ]
  },
  {
   "cell_type": "code",
   "execution_count": 9,
   "metadata": {},
   "outputs": [],
   "source": [
    "DATA_FILE = './Data/original_titanic.csv'\n",
    "# TODO : implement\n",
    "df = pd.read_csv(DATA_FILE, header=0)"
   ]
  },
  {
   "cell_type": "markdown",
   "metadata": {},
   "source": [
    "### Datenlücken interpolieren\n",
    "\n",
    "Gerne können Sie zum Füllen der Datenlücken auch Ihre Implementierung aus der vorherigen Teilaufgabe einsetzen."
   ]
  },
  {
   "cell_type": "code",
   "execution_count": 10,
   "metadata": {},
   "outputs": [],
   "source": [
    "def prepareData(df):\n",
    "    #to set a selection of a data frame please dont use the chained [] operator, but the .loc operator\n",
    "    #(see http://pandas.pydata.org/pandas-docs/stable/indexing.html#indexing-view-versus-copy for details)\n",
    "    \n",
    "    #minimal working example to set all null age values to 42 - probably you can do better :-)\n",
    "    df.loc[(df.Age.isnull()) & (df.Sex == 'male'),'Age'] = 30.59\n",
    "    df.loc[(df.Age.isnull()) & (df.Sex == 'female'),'Age'] = 28.69\n",
    "    df.loc[df.Age.isnull(),'Age']= 29.88\n",
    "    return df\n",
    "df = prepareData(df)"
   ]
  },
  {
   "cell_type": "markdown",
   "metadata": {},
   "source": [
    "### Datensatz stochastisch verändern\n",
    "\n",
    "Es wird der komplette Datensatz durchmischt. Finden Sie hierfür geeignete Methoden (Python, Numpy, Pandas). Geben Sie die ersten fünf Zeilen des durchmischten Datensatzes aus. Weisen Sie nach, dass lediglich die Reihenfolge der Daten geändert wurde und <b>nicht(!)</b> die Merkmals-Spalten."
   ]
  },
  {
   "cell_type": "code",
   "execution_count": 11,
   "metadata": {},
   "outputs": [
    {
     "name": "stdout",
     "output_type": "stream",
     "text": [
      "      PassengerId  Survived  Pclass                                    Name  \\\n",
      "22             23         1       1                   Behr, Mr. Karl Howell   \n",
      "1018         1019         0       3                        Miles, Mr. Frank   \n",
      "318           319         0       1  Williams-Lambert, Mr. Fletcher Fellows   \n",
      "381           382         0       2   Corbett, Mrs. Walter H (Irene Colvin)   \n",
      "863           864         0       3                  Hendekovic, Mr. Ignjac   \n",
      "\n",
      "         Sex    Age  SibSp  Parch  Ticket     Fare Cabin Embarked  \\\n",
      "22      male  26.00      0      0  111369  30.0000  C148        C   \n",
      "1018    male  30.59      0      0  359306   8.0500   NaN        S   \n",
      "318     male  30.59      0      0  113510  35.0000  C128        S   \n",
      "381   female  30.00      0      0  237249  13.0000   NaN        S   \n",
      "863     male  28.00      0      0  349243   7.8958   NaN        S   \n",
      "\n",
      "            Home-Dest  \n",
      "22       New York, NY  \n",
      "1018              NaN  \n",
      "318   London, England  \n",
      "381         Provo, UT  \n",
      "863               NaN  \n"
     ]
    }
   ],
   "source": [
    "df_shuffled = df.sample(frac=1)\n",
    "print(df_shuffled[0:5])"
   ]
  },
  {
   "cell_type": "markdown",
   "metadata": {},
   "source": [
    "### Aufteilung in Trainings- und Testdatensatz\n",
    "\n",
    "Teilen Sie den stochastisch veränderten Datensatz in Trainings- und Testdatensatz mit der Verteilung von 80% (Train) zu 20% (Test) auf. Geben Sie die Länge der Datensätze aus."
   ]
  },
  {
   "cell_type": "code",
   "execution_count": 12,
   "metadata": {},
   "outputs": [
    {
     "name": "stdout",
     "output_type": "stream",
     "text": [
      "1047\n",
      "262\n"
     ]
    }
   ],
   "source": [
    "df_train, df_test = np.split(df_shuffled, [int(.8*len(df_shuffled))])\n",
    "#df_train, df_test = train_test_split(df, test_size=0.2)\n",
    "print(len(df_train))\n",
    "print(len(df_test))"
   ]
  },
  {
   "cell_type": "markdown",
   "metadata": {},
   "source": [
    "### Performance von Machine Learing Algorithmen\n",
    "\n",
    "Die Performance von Machine Learing Algorithmen kann unter anderem anhand der Korreklassifizierungsrate (engl. Accuracy) ermittelt werden. Diese wird über die Verwechslungsmatrix (engl. Confusion matrix) (siehe Abbildung) wie folgt definiert: <br>\n",
    "\n",
    "TP = True Positive <br>\n",
    "TN = True Negative <br>\n",
    "FP = False Positive <br>\n",
    "FN = False Negative <br>\n",
    "ACC = Accuracy <br>\n",
    "\n",
    "$ACC = \\frac{(TP + TN)} {(TP+TN+FP+FN)}$\n",
    "\n",
    "<img src=\"./Figures/Confusion-Matrix.png\" alt=\"drawing\" style=\"width:300px;\"/>\n",
    "\n"
   ]
  },
  {
   "cell_type": "markdown",
   "metadata": {},
   "source": [
    "### Implementierung des Algorithmus"
   ]
  },
  {
   "cell_type": "markdown",
   "metadata": {},
   "source": [
    "Schreiben Sie eine Funktion um die Klasse *Survived*, mit ihren beiden Ausprägungen 0 und 1, anhand von einem oder mehreren Merkmalen vorherzusagen. Verwenden Sie dazu ein einfaches Modell in welchem Sie ihr bisheriges Wissen über den Datensatz einsetzen."
   ]
  },
  {
   "cell_type": "code",
   "execution_count": 13,
   "metadata": {},
   "outputs": [],
   "source": [
    "def predict(entry):\n",
    "    if entry.Pclass == 1:\n",
    "         if entry.Sex == 'male':\n",
    "                if (entry.Age > 30.0) & (entry.Age <= 40.0):\n",
    "                    return 1\n",
    "         if entry.Sex == 'female':\n",
    "            return 1\n",
    "    if entry.Pclass == 2:\n",
    "        if entry.Sex == 'male':\n",
    "            if entry.Age < 20.0:\n",
    "                return 1\n",
    "        if entry.Sex == 'female':\n",
    "            if entry.Age < 50.0:\n",
    "                return 1\n",
    "    if entry.Pclass == 3:\n",
    "        if entry.Sex == 'male':\n",
    "            if (entry.Age > 22.0) & (entry.Age < 26.0):\n",
    "                    return 1\n",
    "        if entry.Sex == 'female':\n",
    "            if entry.Age < 10.0:\n",
    "                return 1\n",
    "            if entry.Age > 55.0:\n",
    "                return 1\n",
    "            if (entry.Age <30.0) & (entry.Age > 15.0):\n",
    "                return 1\n",
    "    return 0\n",
    "        "
   ]
  },
  {
   "cell_type": "markdown",
   "metadata": {},
   "source": [
    "### Testen des Algorithmus"
   ]
  },
  {
   "cell_type": "markdown",
   "metadata": {},
   "source": [
    "Testen Sie die predict() Methode mit den Datenobjekten aus dem Testdatensatz. Ermitteln sie hierzu die Korreklassifizierungsrate."
   ]
  },
  {
   "cell_type": "code",
   "execution_count": 15,
   "metadata": {},
   "outputs": [
    {
     "name": "stdout",
     "output_type": "stream",
     "text": [
      "202\n",
      "79\n",
      "123\n",
      "60\n",
      "0.7709923664122137\n"
     ]
    }
   ],
   "source": [
    "trueEntries = 0\n",
    "falseEntries = 0\n",
    "truePositive = 0\n",
    "trueNegative = 0\n",
    "for row in df_test.itertuples():\n",
    "    if predict(row) == row.Survived:\n",
    "        if row.Survived == 1:\n",
    "            truePositive += 1\n",
    "        else:\n",
    "            trueNegative +=1\n",
    "        trueEntries +=1\n",
    "    else:\n",
    "        falseEntries +=1\n",
    "        \n",
    "print(trueEntries)\n",
    "print(truePositive)\n",
    "print(trueNegative)\n",
    "print(falseEntries)\n",
    "print(trueEntries/(trueEntries+falseEntries))"
   ]
  },
  {
   "cell_type": "code",
   "execution_count": null,
   "metadata": {},
   "outputs": [],
   "source": []
  }
 ],
 "metadata": {
  "kernelspec": {
   "display_name": "Python 3",
   "language": "python",
   "name": "python3"
  },
  "language_info": {
   "codemirror_mode": {
    "name": "ipython",
    "version": 3
   },
   "file_extension": ".py",
   "mimetype": "text/x-python",
   "name": "python",
   "nbconvert_exporter": "python",
   "pygments_lexer": "ipython3",
   "version": "3.8.3"
  }
 },
 "nbformat": 4,
 "nbformat_minor": 4
}
